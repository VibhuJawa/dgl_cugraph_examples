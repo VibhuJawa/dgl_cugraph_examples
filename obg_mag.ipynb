{
 "cells": [
  {
   "cell_type": "markdown",
   "id": "700073a1-40f5-4146-b9f2-7584218431bb",
   "metadata": {},
   "source": [
    "# OBGN- Mag DataSet Training"
   ]
  },
  {
   "cell_type": "code",
   "execution_count": 1,
   "id": "27079a5b-28b1-472d-9063-5ebbb4a2dffd",
   "metadata": {},
   "outputs": [
    {
     "name": "stderr",
     "output_type": "stream",
     "text": [
      "/datasets/vjawa/miniconda3/envs/cugraph_dgl_dev_oct_5/lib/python3.9/site-packages/tqdm/auto.py:22: TqdmWarning: IProgress not found. Please update jupyter and ipywidgets. See https://ipywidgets.readthedocs.io/en/stable/user_install.html\n",
      "  from .autonotebook import tqdm as notebook_tqdm\n"
     ]
    }
   ],
   "source": [
    "from ogb.nodeproppred import DglNodePropPredDataset, Evaluator\n",
    "from dgl import AddReverse, Compose, ToSimple\n",
    "import dgl\n",
    "\n",
    "import torch as th\n",
    "import torch.nn.functional as F\n",
    "\n",
    "from tqdm import tqdm\n",
    "import itertools"
   ]
  },
  {
   "cell_type": "code",
   "execution_count": 2,
   "id": "cb549cf4-cbdd-4bf2-bec9-d9874f9e9455",
   "metadata": {},
   "outputs": [],
   "source": [
    "### Local Imports from this folder\n",
    "from logger import Logger"
   ]
  },
  {
   "cell_type": "markdown",
   "id": "f1ca4e88-dc40-4dd5-be6a-94c114448992",
   "metadata": {},
   "source": [
    "## Step 1.a:  Load the Graph"
   ]
  },
  {
   "cell_type": "code",
   "execution_count": 3,
   "id": "fb972351-64d8-42ed-9d0e-2471529b2f0c",
   "metadata": {},
   "outputs": [],
   "source": [
    "def load_dgl_graph(paper_dim_to_load=10):\n",
    "    dataset = DglNodePropPredDataset(name=\"ogbn-mag\", root='/datasets/vjawa/gnn/')\n",
    "    split_idx = dataset.get_idx_split()\n",
    "    # graph: dgl graph object, label: torch tensor of shape (num_nodes, num_tasks)\n",
    "    g, labels = dataset[0]        \n",
    "    # Update to paper_dim_to_load to save on GPU memory for non distributed versions\n",
    "    # We need to clear g.ndata to do this\n",
    "    ndata = {k: v for k, v in g.ndata.items()}\n",
    "    g.ndata.clear()        \n",
    "    ndata['feat']['paper'] = ndata['feat']['paper'][:,:paper_dim_to_load]\n",
    "    g.ndata.update(ndata)\n",
    "    \n",
    "    labels = labels[\"paper\"].flatten()\n",
    "    transform = Compose([ToSimple(), AddReverse()])\n",
    "    g = transform(g)\n",
    "    print(\"Loaded graph: {}\".format(g))\n",
    "    return g, labels, dataset.num_classes, split_idx\n"
   ]
  },
  {
   "cell_type": "code",
   "execution_count": 4,
   "id": "b00ffcf2-7797-4c07-b438-c9c3ebc1722a",
   "metadata": {},
   "outputs": [
    {
     "name": "stdout",
     "output_type": "stream",
     "text": [
      "Loaded graph: Graph(num_nodes={'author': 1134649, 'field_of_study': 59965, 'institution': 8740, 'paper': 736389},\n",
      "      num_edges={('author', 'affiliated_with', 'institution'): 1043998, ('author', 'writes', 'paper'): 7145660, ('field_of_study', 'rev_has_topic', 'paper'): 7505078, ('institution', 'rev_affiliated_with', 'author'): 1043998, ('paper', 'cites', 'paper'): 10832542, ('paper', 'has_topic', 'field_of_study'): 7505078, ('paper', 'rev_writes', 'author'): 7145660},\n",
      "      metagraph=[('author', 'institution', 'affiliated_with'), ('author', 'paper', 'writes'), ('institution', 'author', 'rev_affiliated_with'), ('paper', 'paper', 'cites'), ('paper', 'field_of_study', 'has_topic'), ('paper', 'author', 'rev_writes'), ('field_of_study', 'paper', 'rev_has_topic')])\n"
     ]
    }
   ],
   "source": [
    "load_d_feature = 10\n",
    "device = 'cuda'\n",
    "\n",
    "g, labels, num_classes, split_idx = load_dgl_graph(load_d_feature)\n",
    "assert g.ndata['feat']['paper'].shape[1] == load_d_feature\n",
    "\n",
    "\n",
    "g = g.to(device)"
   ]
  },
  {
   "cell_type": "markdown",
   "id": "7dfe6db6-7053-4c21-894b-129f670bd1a8",
   "metadata": {},
   "source": [
    "## Step 1.b Convert Graph from DGL Graph to cugraph"
   ]
  },
  {
   "cell_type": "code",
   "execution_count": 5,
   "id": "8141aea5-1905-413e-9d6f-32ae120513be",
   "metadata": {},
   "outputs": [],
   "source": [
    "### Local Imports from this folder\n",
    "from dgl_cugraph_conversion_utils import add_edges, add_nodes, add_ndata"
   ]
  },
  {
   "cell_type": "code",
   "execution_count": null,
   "id": "80de1683-9110-4f7c-9e65-3b30198721da",
   "metadata": {},
   "outputs": [
    {
     "name": "stdout",
     "output_type": "stream",
     "text": [
      "Added Nodes\n",
      "Added Edges\n"
     ]
    }
   ],
   "source": [
    "def graphstore_from_hetrograph(gs, g):\n",
    "    num_nodes_dict = {ntype: g.num_nodes(ntype) for ntype in g.ntypes}\n",
    "    add_nodes(gs, g, num_nodes_dict)\n",
    "    print(\"Added Nodes\")\n",
    "    add_edges(gs, g, num_nodes_dict)\n",
    "    print(\"Added Edges\")\n",
    "    add_ndata(gs, g, num_nodes_dict)\n",
    "    print(\"Added ndata\")\n",
    "    #TODO: \n",
    "    # add_edata\n",
    "\n",
    "gs = dgl.contrib.cugraph.CuGraphStorage(idtype=g.idtype)\n",
    "graphstore_from_hetrograph(gs, g)"
   ]
  },
  {
   "cell_type": "markdown",
   "id": "23aa6207-9024-4711-8c3a-18e83e30ed52",
   "metadata": {},
   "source": [
    "#### Verify Similar Structure"
   ]
  },
  {
   "cell_type": "code",
   "execution_count": null,
   "id": "089af299-fa77-44f1-a38e-993ce967d699",
   "metadata": {},
   "outputs": [],
   "source": [
    "## Testing Similar Structure\n",
    "from dgl_cugraph_conversion_utils import assert_same_num_nodes, assert_same_num_edges\n",
    "gs.num_edges(etype='affiliated_with')==g.num_edges(etype='affiliated_with')\n",
    "assert_same_num_edges(gs, g)\n",
    "assert_same_num_nodes(gs, g)"
   ]
  },
  {
   "cell_type": "markdown",
   "id": "24de4610-f617-4e9e-9e3f-8dae6700f2d3",
   "metadata": {},
   "source": [
    "## Step 1.c Initiate Sampler and Train_Loader"
   ]
  },
  {
   "cell_type": "code",
   "execution_count": null,
   "id": "6668781b-17fc-44ca-b88e-2a722b3cae0f",
   "metadata": {},
   "outputs": [],
   "source": [
    "#### Run only on 10_000 samples to test the pipeline\n",
    "n_samples = 5_000\n",
    "subset_split_idx = {'train': {k: v[:n_samples].to(device) for k,v in split_idx['train'].items()},\n",
    "                   'valid' : {k: v[:n_samples].to(device) for k,v in split_idx['valid'].items()},\n",
    "                    'test' : {k: v[:n_samples].to(device) for k,v in split_idx['test'].items()},\n",
    "                   }\n",
    "\n",
    "\n",
    "sampler = dgl.dataloading.MultiLayerNeighborSampler([25, 20], prefetch_node_feats={'paper':['feat']})\n",
    "train_loader = dgl.dataloading.DataLoader(\n",
    "    gs,\n",
    "    #split_idx,\n",
    "    subset_split_idx[\"train\"],\n",
    "    sampler,\n",
    "    batch_size=1024,\n",
    "    shuffle=True,\n",
    "    num_workers=0,\n",
    "    device='cuda'\n",
    ")"
   ]
  },
  {
   "cell_type": "markdown",
   "id": "e2ba696e-13ca-4a04-bd0b-30e44b401808",
   "metadata": {},
   "source": [
    "## Step 2. Initate a Model"
   ]
  },
  {
   "cell_type": "markdown",
   "id": "a59bc993-1494-4e47-abb4-d4e1d8c6ac65",
   "metadata": {},
   "source": [
    "###  Traing HyperParameters"
   ]
  },
  {
   "cell_type": "code",
   "execution_count": null,
   "id": "b5262d52-6e52-4315-905e-262d93a5914e",
   "metadata": {},
   "outputs": [],
   "source": [
    "from model import  rel_graph_embed,extract_embed\n",
    "from model import EntityClassify"
   ]
  },
  {
   "cell_type": "code",
   "execution_count": null,
   "id": "90eaf286-7787-4dd7-9aab-b0f4df3abcf1",
   "metadata": {},
   "outputs": [],
   "source": [
    "nruns = 2\n",
    "logger = Logger(nruns)\n",
    "device = 'cuda'"
   ]
  },
  {
   "cell_type": "code",
   "execution_count": null,
   "id": "d0b2daf1-5e3b-40fa-802c-52ee00ae36e3",
   "metadata": {},
   "outputs": [],
   "source": [
    "embedding_shape = g.ndata['feat']['paper'].shape[1]\n",
    "embed_layer = rel_graph_embed(g, embedding_shape).to(device)\n",
    "model = EntityClassify(g, embedding_shape, num_classes).to(device)\n",
    "\n",
    "print(\n",
    "    f\"Number of embedding parameters: {sum(p.numel() for p in embed_layer.parameters())}\"\n",
    ")\n",
    "print(\n",
    "    f\"Number of model parameters: {sum(p.numel() for p in model.parameters())}\"\n",
    ")"
   ]
  },
  {
   "cell_type": "code",
   "execution_count": null,
   "id": "d964a54b-29c4-45b1-bbd3-9572078d723f",
   "metadata": {},
   "outputs": [],
   "source": [
    "g"
   ]
  },
  {
   "cell_type": "markdown",
   "id": "def3bbad-7947-4c33-8056-2f512e3a1a6d",
   "metadata": {},
   "source": [
    "## Model Training"
   ]
  },
  {
   "cell_type": "code",
   "execution_count": 64,
   "id": "2a1d2ff9-788a-4b1b-b873-781250805317",
   "metadata": {},
   "outputs": [],
   "source": [
    "def train(\n",
    "    g,\n",
    "    model,\n",
    "    node_embed,\n",
    "    optimizer,\n",
    "    train_loader,\n",
    "    split_idx,\n",
    "    labels,\n",
    "    logger,\n",
    "    device,\n",
    "    run,\n",
    "):\n",
    "    print(\"start training...\")\n",
    "    category = \"paper\"\n",
    "    for epoch in range(2):\n",
    "        num_train = split_idx[\"train\"][category].shape[0]\n",
    "        pbar = tqdm(total=num_train)\n",
    "        pbar.set_description(f\"Epoch {epoch:02d}\")\n",
    "        model.train()\n",
    "\n",
    "        total_loss = 0\n",
    "\n",
    "        for input_nodes, seeds, blocks in train_loader:\n",
    "            blocks = [blk.to(device) for blk in blocks]\n",
    "            seeds = seeds[\n",
    "                category\n",
    "            ]  # we only predict the nodes with type \"category\"\n",
    "            batch_size = seeds.shape[0]\n",
    "\n",
    "            emb = extract_embed(node_embed, input_nodes)\n",
    "            \n",
    "            feat = blocks[0].srcdata['feat']['paper']\n",
    "            #label = subgs[-1].dstdata['label']\n",
    "    \n",
    "            # Add the batch's raw \"paper\" features\n",
    "            emb.update(\n",
    "                {\"paper\": feat}\n",
    "                #{\"paper\": g.ndata[\"feat\"][\"paper\"][input_nodes[\"paper\"]]}\n",
    "            )\n",
    "\n",
    "            emb = {k: e.to(device) for k, e in emb.items()}\n",
    "            lbl = labels[seeds].to(device)\n",
    "\n",
    "            optimizer.zero_grad()\n",
    "            logits = model(emb, blocks)[category]\n",
    "\n",
    "            y_hat = logits.log_softmax(dim=-1)\n",
    "            loss = F.nll_loss(y_hat, lbl)\n",
    "            loss.backward()\n",
    "            optimizer.step()\n",
    "\n",
    "            total_loss += loss.item() * batch_size\n",
    "            pbar.update(batch_size)\n",
    "            \n",
    "        pbar.close()\n",
    "        loss = total_loss / num_train\n",
    "\n",
    "        result = test(g, model, node_embed, labels, device, split_idx)\n",
    "        logger.add_result(run, result)\n",
    "        train_acc, valid_acc, test_acc = result\n",
    "        print(\n",
    "            f\"Run: {run + 1:02d}, \"\n",
    "            f\"Epoch: {epoch +1 :02d}, \"\n",
    "            f\"Loss: {loss:.4f}, \"\n",
    "            f\"Train: {100 * train_acc:.2f}%, \"\n",
    "            f\"Valid: {100 * valid_acc:.2f}%, \"\n",
    "            f\"Test: {100 * test_acc:.2f}%\"\n",
    "        )\n",
    "\n",
    "    return logger\n",
    "\n",
    "\n",
    "@th.no_grad()\n",
    "def test(g, model, node_embed, y_true, device, split_idx):\n",
    "    model.eval()\n",
    "    category = \"paper\"\n",
    "    evaluator = Evaluator(name=\"ogbn-mag\")\n",
    "\n",
    "    #dev type\n",
    "    d_type = g.device.type\n",
    "    \n",
    "    # 2 GNN layers\n",
    "    sampler = dgl.dataloading.MultiLayerFullNeighborSampler(2,  prefetch_node_feats={'paper':['feat']})\n",
    "    loader = dgl.dataloading.DataLoader(\n",
    "        g,\n",
    "        {\"paper\": th.arange(g.num_nodes(\"paper\")).to(d_type)},\n",
    "        sampler,\n",
    "        batch_size=16384,\n",
    "        shuffle=False,\n",
    "        num_workers=0,\n",
    "    )\n",
    "\n",
    "    pbar = tqdm(total=y_true.size(0))\n",
    "    pbar.set_description(f\"Inference\")\n",
    "\n",
    "    y_hats = list()\n",
    "    \n",
    "    for input_nodes, seeds, blocks in loader:\n",
    "        blocks = [blk.to(device) for blk in blocks]\n",
    "        seeds = seeds[\n",
    "            category\n",
    "        ]  # we only predict the nodes with type \"category\"\n",
    "        batch_size = seeds.shape[0]\n",
    "\n",
    "        emb = extract_embed(node_embed, input_nodes)\n",
    "        # Get the batch's raw \"paper\" features\n",
    "        \n",
    "        ## VJawa: Use prefetched feat\n",
    "        #emb.update({\"paper\": g.ndata[\"feat\"][\"paper\"][input_nodes[\"paper\"]]})\n",
    "        ## prefetch_feat\n",
    "        feat = blocks[0].srcdata['feat']['paper']\n",
    "        emb.update({\"paper\": feat})\n",
    "\n",
    "\n",
    "            \n",
    "        emb = {k: e.to(device) for k, e in emb.items()}\n",
    "\n",
    "        logits = model(emb, blocks)[category]\n",
    "        y_hat = logits.log_softmax(dim=-1).argmax(dim=1, keepdims=True)\n",
    "        y_hats.append(y_hat.cpu())\n",
    "\n",
    "        pbar.update(batch_size)\n",
    "\n",
    "        \n",
    "\n",
    "    pbar.close()\n",
    "\n",
    "    y_pred = th.cat(y_hats, dim=0)\n",
    "    y_pred_rows = y_pred.shape[0]\n",
    "    \n",
    "    y_true = th.unsqueeze(y_true[:y_pred_rows], 1)\n",
    "    \n",
    "    \n",
    "    train_split_idx = split_idx[\"train\"][\"paper\"]\n",
    "    valid_split_idx = split_idx[\"valid\"][\"paper\"]\n",
    "    test_split_idx =  split_idx[\"test\"][\"paper\"]\n",
    "    \n",
    "    ### I only want to calculate over the rows i had\n",
    "    \n",
    "\n",
    "    train_acc = evaluator.eval(\n",
    "        {\n",
    "            \"y_true\": y_true[train_split_idx],\n",
    "            \"y_pred\": y_pred[train_split_idx],\n",
    "        }\n",
    "    )[\"acc\"]\n",
    "    valid_acc = evaluator.eval(\n",
    "        {\n",
    "            \"y_true\": y_true[valid_split_idx],\n",
    "            \"y_pred\": y_pred[valid_split_idx],\n",
    "        }\n",
    "    )[\"acc\"]\n",
    "    test_acc = evaluator.eval(\n",
    "        {\n",
    "            \"y_true\": y_true[test_split_idx],\n",
    "            \"y_pred\": y_pred[test_split_idx],\n",
    "        }\n",
    "    )[\"acc\"]\n",
    "\n",
    "    return train_acc, valid_acc, test_acc"
   ]
  },
  {
   "cell_type": "code",
   "execution_count": 65,
   "id": "015ddfbc-b886-4aeb-90bd-3ba775958a04",
   "metadata": {},
   "outputs": [],
   "source": [
    "frontier_gs = gs.sample_neighbors(subset_split_idx['train'], fanout=25)\n",
    "eid_gs = frontier_gs.edata[dgl.EID]"
   ]
  },
  {
   "cell_type": "code",
   "execution_count": 66,
   "id": "cb6e2778-b26e-40f6-9ada-ec869cc95ca8",
   "metadata": {},
   "outputs": [],
   "source": [
    "seed_nodes_gs = subset_split_idx['train']\n",
    "for fanout in [20, 1]:\n",
    "    frontier_g = gs.sample_neighbors(seed_nodes_gs, fanout=fanout)\n",
    "    eid_g = frontier_g.edata[dgl.EID]\n",
    "    eid = frontier.edata[dgl.EID]\n",
    "    block = dgl.to_block(frontier, seed_nodes)\n",
    "    block.edata[dgl.EID] = eid\n",
    "    seed_nodes_gs = block.srcdata[dgl.NID]\n",
    "    break"
   ]
  },
  {
   "cell_type": "code",
   "execution_count": 67,
   "id": "c293584b-1ba1-4888-94ee-5e91346acf77",
   "metadata": {},
   "outputs": [
    {
     "data": {
      "text/plain": [
       "{'author': tensor([ 45575,  57763,  59351,  ...,  28288, 249159, 403467], device='cuda:0'),\n",
       " 'field_of_study': tensor([  246,  2399,  2809,  ..., 15214,  5758, 25716], device='cuda:0'),\n",
       " 'institution': tensor([], device='cuda:0', dtype=torch.int64),\n",
       " 'paper': tensor([     0,      1,      2,  ..., 110398, 133077, 713876], device='cuda:0')}"
      ]
     },
     "execution_count": 67,
     "metadata": {},
     "output_type": "execute_result"
    }
   ],
   "source": [
    "seed_nodes_gs"
   ]
  },
  {
   "cell_type": "code",
   "execution_count": null,
   "id": "dd1b7564-30cb-4655-972d-35855841dd90",
   "metadata": {},
   "outputs": [
    {
     "name": "stderr",
     "output_type": "stream",
     "text": [
      "/home/nfs/vjawa/dgl/dgl/src/graph/transform/cuda/../../../runtime/cuda/cuda_hashtable.cuh:167: IdType dgl::runtime::cuda::DeviceOrderedHashTable<IdType>::SearchForPosition(IdType) const [with IdType = signed long]: block: [37,1,0], thread: [96,0,0] Assertion `table_[pos].key != kEmptyKey` failed.\n",
      "/home/nfs/vjawa/dgl/dgl/src/graph/transform/cuda/../../../runtime/cuda/cuda_hashtable.cuh:167: IdType dgl::runtime::cuda::DeviceOrderedHashTable<IdType>::SearchForPosition(IdType) const [with IdType = signed long]: block: [37,1,0], thread: [97,0,0] Assertion `table_[pos].key != kEmptyKey` failed.\n",
      "/home/nfs/vjawa/dgl/dgl/src/graph/transform/cuda/../../../runtime/cuda/cuda_hashtable.cuh:167: IdType dgl::runtime::cuda::DeviceOrderedHashTable<IdType>::SearchForPosition(IdType) const [with IdType = signed long]: block: [37,1,0], thread: [98,0,0] Assertion `table_[pos].key != kEmptyKey"
     ]
    }
   ],
   "source": [
    "seed_nodes = subset_split_idx['train']\n",
    "for fanout in [20, 1]:\n",
    "    frontier_g = g.sample_neighbors(seed_nodes, fanout=fanout)\n",
    "    eid_g = frontier_g.edata[dgl.EID]\n",
    "    eid = frontier.edata[dgl.EID]\n",
    "    block = dgl.to_block(frontier, seed_nodes)\n",
    "    block.edata[dgl.EID] = eid\n",
    "    seed_nodes = block.srcdata[dgl.NID]\n",
    "    break"
   ]
  },
  {
   "cell_type": "code",
   "execution_count": null,
   "id": "002389c3-27e3-4983-8b7f-286b652de7c5",
   "metadata": {},
   "outputs": [],
   "source": [
    "seed_nodes_gs"
   ]
  },
  {
   "cell_type": "code",
   "execution_count": 58,
   "id": "01d0536b-94de-467e-9768-5b20d4cd39fc",
   "metadata": {},
   "outputs": [
    {
     "data": {
      "text/plain": [
       "torch.Size([326151])"
      ]
     },
     "execution_count": 58,
     "metadata": {},
     "output_type": "execute_result"
    }
   ],
   "source": [
    "seed_nodes['paper'].shape"
   ]
  },
  {
   "cell_type": "code",
   "execution_count": 56,
   "id": "1b968645-81ea-4f74-8841-60e7e67d1be5",
   "metadata": {},
   "outputs": [
    {
     "name": "stdout",
     "output_type": "stream",
     "text": [
      "start training...\n"
     ]
    },
    {
     "name": "stderr",
     "output_type": "stream",
     "text": [
      "\n",
      "\n",
      "\n",
      "  0%|          | 0/50000 [00:00<?, ?it/s]\u001b[A\u001b[A\u001b[A\n",
      "\n",
      "\n",
      "Epoch 00:   0%|          | 0/50000 [00:00<?, ?it/s]\u001b[A\u001b[A\u001b[A"
     ]
    },
    {
     "ename": "RuntimeError",
     "evalue": "non-success value returned from cugraph_uniform_neighbor_sample: CUGRAPH_UNKNOWN_ERROR cuGraph failure at file=/home/nfs/vjawa/dgl/cugraph/cpp/src/prims/per_v_random_select_transform_outgoing_e.cuh line=304: Invalid input argument: frontier includes out-of-range keys.\nObtained 64 stack frames\n#0 in /datasets/vjawa/miniconda3/envs/cugraph_dgl_dev_oct_5/lib/libcugraph.so(+0x8e1a2b) [0x7f803ff41a2b]\n#1 in /datasets/vjawa/miniconda3/envs/cugraph_dgl_dev_oct_5/lib/libcugraph.so(+0xb21c6d) [0x7f8040181c6d]\n#2 in /datasets/vjawa/miniconda3/envs/cugraph_dgl_dev_oct_5/lib/libcugraph.so(+0x170f4c4) [0x7f8040d6f4c4]\n#3 in /datasets/vjawa/miniconda3/envs/cugraph_dgl_dev_oct_5/lib/libcugraph.so(_ZN7cugraph6detail12sample_edgesINS_12graph_view_tIlldLb0ELb0EvEEEESt5tupleIJN3rmm14device_uvectorINT_11vertex_typeEEES9_St8optionalINS6_INS7_11weight_typeEEEEEERKN4raft8handle_tERKS7_RNSF_6random8RngStateERKS9_mb+0x99d) [0x7f8040d704bd]\n#4 in /datasets/vjawa/miniconda3/envs/cugraph_dgl_dev_oct_5/lib/libcugraph.so(_ZN7cugraph6detail23uniform_nbr_sample_implINS_12graph_view_tIlldLb0ELb0EvEEEESt5tupleIJN3rmm14device_uvectorINT_11vertex_typeEEES9_NS6_INS7_11weight_typeEEENS6_INS7_9edge_typeEEEEERKN4raft8handle_tERKS7_RS9_NSF_4spanIKiLb0ELm18446744073709551615EEEbm+0x25c) [0x7f8040d8e70c]\n#5 in /datasets/vjawa/miniconda3/envs/cugraph_dgl_dev_oct_5/lib/libcugraph.so(_ZN7cugraph18uniform_nbr_sampleIlldLb0ELb0EEESt5tupleIJN3rmm14device_uvectorIT_EES5_NS3_IT1_EENS3_IT0_EEEERKN4raft8handle_tERKNS_12graph_view_tIS4_S8_S6_XT2_EXT3_EvEENSB_4spanIS4_Lb1ELm18446744073709551615EEENSJ_IKiLb0ELm18446744073709551615EEEbm+0xc2) [0x7f8040d8f252]\n#6 in /datasets/vjawa/miniconda3/envs/cugraph_dgl_dev_oct_5/lib/libcugraph_c.so(+0x13d118) [0x7f80691bc118]\n#7 in /datasets/vjawa/miniconda3/envs/cugraph_dgl_dev_oct_5/lib/libcugraph_c.so(cugraph_uniform_neighbor_sample+0x120) [0x7f80691c3350]\n#8 in /datasets/vjawa/miniconda3/envs/cugraph_dgl_dev_oct_5/lib/python3.9/site-packages/pylibcugraph-22.10.0a0+112.g56bfbf249-py3.9-linux-x86_64.egg/pylibcugraph/uniform_neighbor_sample.cpython-39-x86_64-linux-gnu.so(+0x76d3) [0x7f8068e8f6d3]\n#9 in /datasets/vjawa/miniconda3/envs/cugraph_dgl_dev_oct_5/bin/python(_PyObject_MakeTpCall+0x347) [0x563530045fa7]\n#10 in /datasets/vjawa/miniconda3/envs/cugraph_dgl_dev_oct_5/bin/python(_PyEval_EvalFrameDefault+0x568f) [0x56353004207f]\n#11 in /datasets/vjawa/miniconda3/envs/cugraph_dgl_dev_oct_5/bin/python(+0x12aa17) [0x56353003ba17]\n#12 in /datasets/vjawa/miniconda3/envs/cugraph_dgl_dev_oct_5/bin/python(_PyFunction_Vectorcall+0xb9) [0x56353004dff9]\n#13 in /datasets/vjawa/miniconda3/envs/cugraph_dgl_dev_oct_5/bin/python(_PyEval_EvalFrameDefault+0x11db) [0x56353003dbcb]\n#14 in /datasets/vjawa/miniconda3/envs/cugraph_dgl_dev_oct_5/bin/python(+0x13d303) [0x56353004e303]\n#15 in /datasets/vjawa/miniconda3/envs/cugraph_dgl_dev_oct_5/bin/python(_PyEval_EvalFrameDefault+0x3c3) [0x56353003cdb3]\n#16 in /datasets/vjawa/miniconda3/envs/cugraph_dgl_dev_oct_5/bin/python(+0x12aa17) [0x56353003ba17]\n#17 in /datasets/vjawa/miniconda3/envs/cugraph_dgl_dev_oct_5/bin/python(_PyFunction_Vectorcall+0xb9) [0x56353004dff9]\n#18 in /datasets/vjawa/miniconda3/envs/cugraph_dgl_dev_oct_5/bin/python(_PyEval_EvalFrameDefault+0x3c3) [0x56353003cdb3]\n#19 in /datasets/vjawa/miniconda3/envs/cugraph_dgl_dev_oct_5/bin/python(+0x12aa17) [0x56353003ba17]\n#20 in /datasets/vjawa/miniconda3/envs/cugraph_dgl_dev_oct_5/bin/python(_PyFunction_Vectorcall+0xb9) [0x56353004dff9]\n#21 in /datasets/vjawa/miniconda3/envs/cugraph_dgl_dev_oct_5/bin/python(_PyEval_EvalFrameDefault+0x3c3) [0x56353003cdb3]\n#22 in /datasets/vjawa/miniconda3/envs/cugraph_dgl_dev_oct_5/bin/python(+0x12aa17) [0x56353003ba17]\n#23 in /datasets/vjawa/miniconda3/envs/cugraph_dgl_dev_oct_5/bin/python(+0x14c328) [0x56353005d328]\n#24 in /datasets/vjawa/miniconda3/envs/cugraph_dgl_dev_oct_5/bin/python(_PyEval_EvalFrameDefault+0x11db) [0x56353003dbcb]\n#25 in /datasets/vjawa/miniconda3/envs/cugraph_dgl_dev_oct_5/bin/python(+0x12aa17) [0x56353003ba17]\n#26 in /datasets/vjawa/miniconda3/envs/cugraph_dgl_dev_oct_5/bin/python(+0x14c328) [0x56353005d328]\n#27 in /datasets/vjawa/miniconda3/envs/cugraph_dgl_dev_oct_5/bin/python(_PyEval_EvalFrameDefault+0x11db) [0x56353003dbcb]\n#28 in /datasets/vjawa/miniconda3/envs/cugraph_dgl_dev_oct_5/bin/python(+0x12aa17) [0x56353003ba17]\n#29 in /datasets/vjawa/miniconda3/envs/cugraph_dgl_dev_oct_5/bin/python(+0x14c328) [0x56353005d328]\n#30 in /datasets/vjawa/miniconda3/envs/cugraph_dgl_dev_oct_5/bin/python(_PyEval_EvalFrameDefault+0x11db) [0x56353003dbcb]\n#31 in /datasets/vjawa/miniconda3/envs/cugraph_dgl_dev_oct_5/bin/python(+0x12aa17) [0x56353003ba17]\n#32 in /datasets/vjawa/miniconda3/envs/cugraph_dgl_dev_oct_5/bin/python(+0x14c328) [0x56353005d328]\n#33 in /datasets/vjawa/miniconda3/envs/cugraph_dgl_dev_oct_5/bin/python(_PyEval_EvalFrameDefault+0x4c46) [0x563530041636]\n#34 in /datasets/vjawa/miniconda3/envs/cugraph_dgl_dev_oct_5/bin/python(+0x12aa17) [0x56353003ba17]\n#35 in /datasets/vjawa/miniconda3/envs/cugraph_dgl_dev_oct_5/bin/python(_PyObject_FastCallDictTstate+0x140) [0x5635300456e0]\n#36 in /datasets/vjawa/miniconda3/envs/cugraph_dgl_dev_oct_5/bin/python(_PyObject_Call_Prepend+0x69) [0x56353005a5e9]\n#37 in /datasets/vjawa/miniconda3/envs/cugraph_dgl_dev_oct_5/bin/python(+0x21ea85) [0x56353012fa85]\n#38 in /datasets/vjawa/miniconda3/envs/cugraph_dgl_dev_oct_5/bin/python(_PyObject_MakeTpCall+0x347) [0x563530045fa7]\n#39 in /datasets/vjawa/miniconda3/envs/cugraph_dgl_dev_oct_5/bin/python(_PyEval_EvalFrameDefault+0x536f) [0x563530041d5f]\n#40 in /datasets/vjawa/miniconda3/envs/cugraph_dgl_dev_oct_5/bin/python(+0x13d303) [0x56353004e303]\n#41 in /datasets/vjawa/miniconda3/envs/cugraph_dgl_dev_oct_5/bin/python(_PyEval_EvalFrameDefault+0x673) [0x56353003d063]\n#42 in /datasets/vjawa/miniconda3/envs/cugraph_dgl_dev_oct_5/bin/python(+0x13d303) [0x56353004e303]\n#43 in /datasets/vjawa/miniconda3/envs/cugraph_dgl_dev_oct_5/bin/python(_PyEval_EvalFrameDefault+0x673) [0x56353003d063]\n#44 in /datasets/vjawa/miniconda3/envs/cugraph_dgl_dev_oct_5/bin/python(+0x13d303) [0x56353004e303]\n#45 in /datasets/vjawa/miniconda3/envs/cugraph_dgl_dev_oct_5/bin/python(+0x18e9d7) [0x56353009f9d7]\n#46 in /datasets/vjawa/miniconda3/envs/cugraph_dgl_dev_oct_5/bin/python(+0x1d14bc) [0x5635300e24bc]\n#47 in /datasets/vjawa/miniconda3/envs/cugraph_dgl_dev_oct_5/bin/python(+0x1c4189) [0x5635300d5189]\n#48 in /datasets/vjawa/miniconda3/envs/cugraph_dgl_dev_oct_5/bin/python(+0x13d991) [0x56353004e991]\n#49 in /datasets/vjawa/miniconda3/envs/cugraph_dgl_dev_oct_5/bin/python(_PyEval_EvalFrameDefault+0x3c3) [0x56353003cdb3]\n#50 in /datasets/vjawa/miniconda3/envs/cugraph_dgl_dev_oct_5/bin/python(+0x13d303) [0x56353004e303]\n#51 in /datasets/vjawa/miniconda3/envs/cugraph_dgl_dev_oct_5/bin/python(_PyEval_EvalFrameDefault+0x673) [0x56353003d063]\n#52 in /datasets/vjawa/miniconda3/envs/cugraph_dgl_dev_oct_5/bin/python(+0x13d303) [0x56353004e303]\n#53 in /datasets/vjawa/miniconda3/envs/cugraph_dgl_dev_oct_5/bin/python(+0x18e9d7) [0x56353009f9d7]\n#54 in /datasets/vjawa/miniconda3/envs/cugraph_dgl_dev_oct_5/bin/python(+0x1d14bc) [0x5635300e24bc]\n#55 in /datasets/vjawa/miniconda3/envs/cugraph_dgl_dev_oct_5/bin/python(_PyEval_EvalFrameDefault+0x930) [0x56353003d320]\n#56 in /datasets/vjawa/miniconda3/envs/cugraph_dgl_dev_oct_5/bin/python(+0x12aa17) [0x56353003ba17]\n#57 in /datasets/vjawa/miniconda3/envs/cugraph_dgl_dev_oct_5/bin/python(_PyFunction_Vectorcall+0xb9) [0x56353004dff9]\n#58 in /datasets/vjawa/miniconda3/envs/cugraph_dgl_dev_oct_5/bin/python(_PyEval_EvalFrameDefault+0x3c3) [0x56353003cdb3]\n#59 in /datasets/vjawa/miniconda3/envs/cugraph_dgl_dev_oct_5/bin/python(+0x12aa17) [0x56353003ba17]\n#60 in /datasets/vjawa/miniconda3/envs/cugraph_dgl_dev_oct_5/bin/python(_PyEval_EvalCodeWithName+0x47) [0x56353003b6d7]\n#61 in /datasets/vjawa/miniconda3/envs/cugraph_dgl_dev_oct_5/bin/python(PyEval_EvalCodeEx+0x39) [0x56353003b689]\n#62 in /datasets/vjawa/miniconda3/envs/cugraph_dgl_dev_oct_5/bin/python(PyEval_EvalCode+0x1b) [0x5635300f6e3b]\n#63 in /datasets/vjawa/miniconda3/envs/cugraph_dgl_dev_oct_5/bin/python(+0x1ea8fd) [0x5635300fb8fd]\n",
     "output_type": "error",
     "traceback": [
      "\u001b[0;31m---------------------------------------------------------------------------\u001b[0m",
      "\u001b[0;31mRuntimeError\u001b[0m                              Traceback (most recent call last)",
      "Cell \u001b[0;32mIn [56], line 11\u001b[0m\n\u001b[1;32m      6\u001b[0m     all_params \u001b[38;5;241m=\u001b[39m itertools\u001b[38;5;241m.\u001b[39mchain(\n\u001b[1;32m      7\u001b[0m         model\u001b[38;5;241m.\u001b[39mparameters(), embed_layer\u001b[38;5;241m.\u001b[39mparameters()\n\u001b[1;32m      8\u001b[0m     )\n\u001b[1;32m      9\u001b[0m     optimizer \u001b[38;5;241m=\u001b[39m th\u001b[38;5;241m.\u001b[39moptim\u001b[38;5;241m.\u001b[39mAdam(all_params, lr\u001b[38;5;241m=\u001b[39m\u001b[38;5;241m0.01\u001b[39m)\n\u001b[0;32m---> 11\u001b[0m     logger \u001b[38;5;241m=\u001b[39m train(\n\u001b[1;32m     12\u001b[0m         gs,\n\u001b[1;32m     13\u001b[0m         model,\n\u001b[1;32m     14\u001b[0m         embed_layer,\n\u001b[1;32m     15\u001b[0m         optimizer,\n\u001b[1;32m     16\u001b[0m         train_loader,\n\u001b[1;32m     17\u001b[0m         subset_split_idx,\n\u001b[1;32m     18\u001b[0m         \u001b[38;5;66;03m#TODO: Change to split_idx,\u001b[39;00m\n\u001b[1;32m     19\u001b[0m         labels,\n\u001b[1;32m     20\u001b[0m         logger,\n\u001b[1;32m     21\u001b[0m         device,\n\u001b[1;32m     22\u001b[0m         run,\n\u001b[1;32m     23\u001b[0m     )\n\u001b[1;32m     24\u001b[0m     logger\u001b[38;5;241m.\u001b[39mprint_statistics(run)\n\u001b[1;32m     26\u001b[0m \u001b[38;5;28mprint\u001b[39m(\u001b[38;5;124m\"\u001b[39m\u001b[38;5;124mFinal performance: \u001b[39m\u001b[38;5;124m\"\u001b[39m)\n",
      "Cell \u001b[0;32mIn [55], line 23\u001b[0m, in \u001b[0;36mtrain\u001b[0;34m(g, model, node_embed, optimizer, train_loader, split_idx, labels, logger, device, run)\u001b[0m\n\u001b[1;32m     19\u001b[0m model\u001b[38;5;241m.\u001b[39mtrain()\n\u001b[1;32m     21\u001b[0m total_loss \u001b[38;5;241m=\u001b[39m \u001b[38;5;241m0\u001b[39m\n\u001b[0;32m---> 23\u001b[0m \u001b[38;5;28;01mfor\u001b[39;00m input_nodes, seeds, blocks \u001b[38;5;129;01min\u001b[39;00m train_loader:\n\u001b[1;32m     24\u001b[0m     blocks \u001b[38;5;241m=\u001b[39m [blk\u001b[38;5;241m.\u001b[39mto(device) \u001b[38;5;28;01mfor\u001b[39;00m blk \u001b[38;5;129;01min\u001b[39;00m blocks]\n\u001b[1;32m     25\u001b[0m     seeds \u001b[38;5;241m=\u001b[39m seeds[\n\u001b[1;32m     26\u001b[0m         category\n\u001b[1;32m     27\u001b[0m     ]  \u001b[38;5;66;03m# we only predict the nodes with type \"category\"\u001b[39;00m\n",
      "File \u001b[0;32m~/dgl/dgl/python/dgl/dataloading/dataloader.py:514\u001b[0m, in \u001b[0;36m_PrefetchingIter.__next__\u001b[0;34m(self)\u001b[0m\n\u001b[1;32m    512\u001b[0m \u001b[38;5;28;01mdef\u001b[39;00m \u001b[38;5;21m__next__\u001b[39m(\u001b[38;5;28mself\u001b[39m):\n\u001b[1;32m    513\u001b[0m     batch, feats, stream_event \u001b[38;5;241m=\u001b[39m \\\n\u001b[0;32m--> 514\u001b[0m         \u001b[38;5;28;43mself\u001b[39;49m\u001b[38;5;241;43m.\u001b[39;49m\u001b[43m_next_non_threaded\u001b[49m\u001b[43m(\u001b[49m\u001b[43m)\u001b[49m \u001b[38;5;28;01mif\u001b[39;00m \u001b[38;5;129;01mnot\u001b[39;00m \u001b[38;5;28mself\u001b[39m\u001b[38;5;241m.\u001b[39muse_thread \u001b[38;5;28;01melse\u001b[39;00m \u001b[38;5;28mself\u001b[39m\u001b[38;5;241m.\u001b[39m_next_threaded()\n\u001b[1;32m    515\u001b[0m     batch \u001b[38;5;241m=\u001b[39m recursive_apply_pair(batch, feats, _assign_for)\n\u001b[1;32m    516\u001b[0m     \u001b[38;5;28;01mif\u001b[39;00m stream_event \u001b[38;5;129;01mis\u001b[39;00m \u001b[38;5;129;01mnot\u001b[39;00m \u001b[38;5;28;01mNone\u001b[39;00m:\n",
      "File \u001b[0;32m~/dgl/dgl/python/dgl/dataloading/dataloader.py:494\u001b[0m, in \u001b[0;36m_PrefetchingIter._next_non_threaded\u001b[0;34m(self)\u001b[0m\n\u001b[1;32m    493\u001b[0m \u001b[38;5;28;01mdef\u001b[39;00m \u001b[38;5;21m_next_non_threaded\u001b[39m(\u001b[38;5;28mself\u001b[39m):\n\u001b[0;32m--> 494\u001b[0m     batch \u001b[38;5;241m=\u001b[39m \u001b[38;5;28;43mnext\u001b[39;49m\u001b[43m(\u001b[49m\u001b[38;5;28;43mself\u001b[39;49m\u001b[38;5;241;43m.\u001b[39;49m\u001b[43mdataloader_it\u001b[49m\u001b[43m)\u001b[49m\n\u001b[1;32m    495\u001b[0m     batch \u001b[38;5;241m=\u001b[39m recursive_apply(batch, restore_parent_storage_columns, \u001b[38;5;28mself\u001b[39m\u001b[38;5;241m.\u001b[39mdataloader\u001b[38;5;241m.\u001b[39mgraph)\n\u001b[1;32m    496\u001b[0m     batch, feats, stream_event \u001b[38;5;241m=\u001b[39m _prefetch(batch, \u001b[38;5;28mself\u001b[39m\u001b[38;5;241m.\u001b[39mdataloader, \u001b[38;5;28mself\u001b[39m\u001b[38;5;241m.\u001b[39mstream)\n",
      "File \u001b[0;32m/datasets/vjawa/miniconda3/envs/cugraph_dgl_dev_oct_5/lib/python3.9/site-packages/torch/utils/data/dataloader.py:681\u001b[0m, in \u001b[0;36m_BaseDataLoaderIter.__next__\u001b[0;34m(self)\u001b[0m\n\u001b[1;32m    678\u001b[0m \u001b[38;5;28;01mif\u001b[39;00m \u001b[38;5;28mself\u001b[39m\u001b[38;5;241m.\u001b[39m_sampler_iter \u001b[38;5;129;01mis\u001b[39;00m \u001b[38;5;28;01mNone\u001b[39;00m:\n\u001b[1;32m    679\u001b[0m     \u001b[38;5;66;03m# TODO(https://github.com/pytorch/pytorch/issues/76750)\u001b[39;00m\n\u001b[1;32m    680\u001b[0m     \u001b[38;5;28mself\u001b[39m\u001b[38;5;241m.\u001b[39m_reset()  \u001b[38;5;66;03m# type: ignore[call-arg]\u001b[39;00m\n\u001b[0;32m--> 681\u001b[0m data \u001b[38;5;241m=\u001b[39m \u001b[38;5;28;43mself\u001b[39;49m\u001b[38;5;241;43m.\u001b[39;49m\u001b[43m_next_data\u001b[49m\u001b[43m(\u001b[49m\u001b[43m)\u001b[49m\n\u001b[1;32m    682\u001b[0m \u001b[38;5;28mself\u001b[39m\u001b[38;5;241m.\u001b[39m_num_yielded \u001b[38;5;241m+\u001b[39m\u001b[38;5;241m=\u001b[39m \u001b[38;5;241m1\u001b[39m\n\u001b[1;32m    683\u001b[0m \u001b[38;5;28;01mif\u001b[39;00m \u001b[38;5;28mself\u001b[39m\u001b[38;5;241m.\u001b[39m_dataset_kind \u001b[38;5;241m==\u001b[39m _DatasetKind\u001b[38;5;241m.\u001b[39mIterable \u001b[38;5;129;01mand\u001b[39;00m \\\n\u001b[1;32m    684\u001b[0m         \u001b[38;5;28mself\u001b[39m\u001b[38;5;241m.\u001b[39m_IterableDataset_len_called \u001b[38;5;129;01mis\u001b[39;00m \u001b[38;5;129;01mnot\u001b[39;00m \u001b[38;5;28;01mNone\u001b[39;00m \u001b[38;5;129;01mand\u001b[39;00m \\\n\u001b[1;32m    685\u001b[0m         \u001b[38;5;28mself\u001b[39m\u001b[38;5;241m.\u001b[39m_num_yielded \u001b[38;5;241m>\u001b[39m \u001b[38;5;28mself\u001b[39m\u001b[38;5;241m.\u001b[39m_IterableDataset_len_called:\n",
      "File \u001b[0;32m/datasets/vjawa/miniconda3/envs/cugraph_dgl_dev_oct_5/lib/python3.9/site-packages/torch/utils/data/dataloader.py:721\u001b[0m, in \u001b[0;36m_SingleProcessDataLoaderIter._next_data\u001b[0;34m(self)\u001b[0m\n\u001b[1;32m    719\u001b[0m \u001b[38;5;28;01mdef\u001b[39;00m \u001b[38;5;21m_next_data\u001b[39m(\u001b[38;5;28mself\u001b[39m):\n\u001b[1;32m    720\u001b[0m     index \u001b[38;5;241m=\u001b[39m \u001b[38;5;28mself\u001b[39m\u001b[38;5;241m.\u001b[39m_next_index()  \u001b[38;5;66;03m# may raise StopIteration\u001b[39;00m\n\u001b[0;32m--> 721\u001b[0m     data \u001b[38;5;241m=\u001b[39m \u001b[38;5;28;43mself\u001b[39;49m\u001b[38;5;241;43m.\u001b[39;49m\u001b[43m_dataset_fetcher\u001b[49m\u001b[38;5;241;43m.\u001b[39;49m\u001b[43mfetch\u001b[49m\u001b[43m(\u001b[49m\u001b[43mindex\u001b[49m\u001b[43m)\u001b[49m  \u001b[38;5;66;03m# may raise StopIteration\u001b[39;00m\n\u001b[1;32m    722\u001b[0m     \u001b[38;5;28;01mif\u001b[39;00m \u001b[38;5;28mself\u001b[39m\u001b[38;5;241m.\u001b[39m_pin_memory:\n\u001b[1;32m    723\u001b[0m         data \u001b[38;5;241m=\u001b[39m _utils\u001b[38;5;241m.\u001b[39mpin_memory\u001b[38;5;241m.\u001b[39mpin_memory(data, \u001b[38;5;28mself\u001b[39m\u001b[38;5;241m.\u001b[39m_pin_memory_device)\n",
      "File \u001b[0;32m/datasets/vjawa/miniconda3/envs/cugraph_dgl_dev_oct_5/lib/python3.9/site-packages/torch/utils/data/_utils/fetch.py:40\u001b[0m, in \u001b[0;36m_IterableDatasetFetcher.fetch\u001b[0;34m(self, possibly_batched_index)\u001b[0m\n\u001b[1;32m     38\u001b[0m \u001b[38;5;28;01melse\u001b[39;00m:\n\u001b[1;32m     39\u001b[0m     data \u001b[38;5;241m=\u001b[39m \u001b[38;5;28mnext\u001b[39m(\u001b[38;5;28mself\u001b[39m\u001b[38;5;241m.\u001b[39mdataset_iter)\n\u001b[0;32m---> 40\u001b[0m \u001b[38;5;28;01mreturn\u001b[39;00m \u001b[38;5;28;43mself\u001b[39;49m\u001b[38;5;241;43m.\u001b[39;49m\u001b[43mcollate_fn\u001b[49m\u001b[43m(\u001b[49m\u001b[43mdata\u001b[49m\u001b[43m)\u001b[49m\n",
      "File \u001b[0;32m~/dgl/dgl/python/dgl/dataloading/dataloader.py:538\u001b[0m, in \u001b[0;36mCollateWrapper.__call__\u001b[0;34m(self, items)\u001b[0m\n\u001b[1;32m    534\u001b[0m \u001b[38;5;28;01mif\u001b[39;00m \u001b[38;5;28mself\u001b[39m\u001b[38;5;241m.\u001b[39muse_uva \u001b[38;5;129;01mor\u001b[39;00m (graph_device \u001b[38;5;241m!=\u001b[39m torch\u001b[38;5;241m.\u001b[39mdevice(\u001b[38;5;124m'\u001b[39m\u001b[38;5;124mcpu\u001b[39m\u001b[38;5;124m'\u001b[39m)):\n\u001b[1;32m    535\u001b[0m     \u001b[38;5;66;03m# Only copy the indices to the given device if in UVA mode or the graph\u001b[39;00m\n\u001b[1;32m    536\u001b[0m     \u001b[38;5;66;03m# is not on CPU.\u001b[39;00m\n\u001b[1;32m    537\u001b[0m     items \u001b[38;5;241m=\u001b[39m recursive_apply(items, \u001b[38;5;28;01mlambda\u001b[39;00m x: x\u001b[38;5;241m.\u001b[39mto(\u001b[38;5;28mself\u001b[39m\u001b[38;5;241m.\u001b[39mdevice))\n\u001b[0;32m--> 538\u001b[0m batch \u001b[38;5;241m=\u001b[39m \u001b[38;5;28;43mself\u001b[39;49m\u001b[38;5;241;43m.\u001b[39;49m\u001b[43msample_func\u001b[49m\u001b[43m(\u001b[49m\u001b[38;5;28;43mself\u001b[39;49m\u001b[38;5;241;43m.\u001b[39;49m\u001b[43mg\u001b[49m\u001b[43m,\u001b[49m\u001b[43m \u001b[49m\u001b[43mitems\u001b[49m\u001b[43m)\u001b[49m\n\u001b[1;32m    539\u001b[0m \u001b[38;5;28;01mreturn\u001b[39;00m recursive_apply(batch, remove_parent_storage_columns, \u001b[38;5;28mself\u001b[39m\u001b[38;5;241m.\u001b[39mg)\n",
      "File \u001b[0;32m~/dgl/dgl/python/dgl/dataloading/base.py:243\u001b[0m, in \u001b[0;36mBlockSampler.sample\u001b[0;34m(self, g, seed_nodes, exclude_eids)\u001b[0m\n\u001b[1;32m    241\u001b[0m \u001b[38;5;28;01mdef\u001b[39;00m \u001b[38;5;21msample\u001b[39m(\u001b[38;5;28mself\u001b[39m, g, seed_nodes, exclude_eids\u001b[38;5;241m=\u001b[39m\u001b[38;5;28;01mNone\u001b[39;00m):     \u001b[38;5;66;03m# pylint: disable=arguments-differ\u001b[39;00m\n\u001b[1;32m    242\u001b[0m     \u001b[38;5;124;03m\"\"\"Sample a list of blocks from the given seed nodes.\"\"\"\u001b[39;00m\n\u001b[0;32m--> 243\u001b[0m     result \u001b[38;5;241m=\u001b[39m \u001b[38;5;28;43mself\u001b[39;49m\u001b[38;5;241;43m.\u001b[39;49m\u001b[43msample_blocks\u001b[49m\u001b[43m(\u001b[49m\u001b[43mg\u001b[49m\u001b[43m,\u001b[49m\u001b[43m \u001b[49m\u001b[43mseed_nodes\u001b[49m\u001b[43m,\u001b[49m\u001b[43m \u001b[49m\u001b[43mexclude_eids\u001b[49m\u001b[38;5;241;43m=\u001b[39;49m\u001b[43mexclude_eids\u001b[49m\u001b[43m)\u001b[49m\n\u001b[1;32m    244\u001b[0m     \u001b[38;5;28;01mreturn\u001b[39;00m \u001b[38;5;28mself\u001b[39m\u001b[38;5;241m.\u001b[39massign_lazy_features(result)\n",
      "File \u001b[0;32m~/dgl/dgl/python/dgl/dataloading/neighbor_sampler.py:110\u001b[0m, in \u001b[0;36mNeighborSampler.sample_blocks\u001b[0;34m(self, g, seed_nodes, exclude_eids)\u001b[0m\n\u001b[1;32m    108\u001b[0m blocks \u001b[38;5;241m=\u001b[39m []\n\u001b[1;32m    109\u001b[0m \u001b[38;5;28;01mfor\u001b[39;00m fanout \u001b[38;5;129;01min\u001b[39;00m \u001b[38;5;28mreversed\u001b[39m(\u001b[38;5;28mself\u001b[39m\u001b[38;5;241m.\u001b[39mfanouts):\n\u001b[0;32m--> 110\u001b[0m     frontier \u001b[38;5;241m=\u001b[39m \u001b[43mg\u001b[49m\u001b[38;5;241;43m.\u001b[39;49m\u001b[43msample_neighbors\u001b[49m\u001b[43m(\u001b[49m\n\u001b[1;32m    111\u001b[0m \u001b[43m        \u001b[49m\u001b[43mseed_nodes\u001b[49m\u001b[43m,\u001b[49m\u001b[43m \u001b[49m\u001b[43mfanout\u001b[49m\u001b[43m,\u001b[49m\u001b[43m \u001b[49m\u001b[43medge_dir\u001b[49m\u001b[38;5;241;43m=\u001b[39;49m\u001b[38;5;28;43mself\u001b[39;49m\u001b[38;5;241;43m.\u001b[39;49m\u001b[43medge_dir\u001b[49m\u001b[43m,\u001b[49m\u001b[43m \u001b[49m\u001b[43mprob\u001b[49m\u001b[38;5;241;43m=\u001b[39;49m\u001b[38;5;28;43mself\u001b[39;49m\u001b[38;5;241;43m.\u001b[39;49m\u001b[43mprob\u001b[49m\u001b[43m,\u001b[49m\n\u001b[1;32m    112\u001b[0m \u001b[43m        \u001b[49m\u001b[43mreplace\u001b[49m\u001b[38;5;241;43m=\u001b[39;49m\u001b[38;5;28;43mself\u001b[39;49m\u001b[38;5;241;43m.\u001b[39;49m\u001b[43mreplace\u001b[49m\u001b[43m,\u001b[49m\u001b[43m \u001b[49m\u001b[43moutput_device\u001b[49m\u001b[38;5;241;43m=\u001b[39;49m\u001b[38;5;28;43mself\u001b[39;49m\u001b[38;5;241;43m.\u001b[39;49m\u001b[43moutput_device\u001b[49m\u001b[43m,\u001b[49m\n\u001b[1;32m    113\u001b[0m \u001b[43m        \u001b[49m\u001b[43mexclude_edges\u001b[49m\u001b[38;5;241;43m=\u001b[39;49m\u001b[43mexclude_eids\u001b[49m\u001b[43m)\u001b[49m\n\u001b[1;32m    114\u001b[0m     eid \u001b[38;5;241m=\u001b[39m frontier\u001b[38;5;241m.\u001b[39medata[EID]\n\u001b[1;32m    115\u001b[0m     block \u001b[38;5;241m=\u001b[39m to_block(frontier, seed_nodes)\n",
      "File \u001b[0;32m~/dgl/dgl/python/dgl/contrib/cugraph/cugraph_storage.py:268\u001b[0m, in \u001b[0;36mCuGraphStorage.sample_neighbors\u001b[0;34m(self, seed_nodes, fanout, edge_dir, prob, exclude_edges, replace, output_device)\u001b[0m\n\u001b[1;32m    258\u001b[0m     seed_nodes \u001b[38;5;241m=\u001b[39m {\n\u001b[1;32m    259\u001b[0m         k: \u001b[38;5;28mself\u001b[39m\u001b[38;5;241m.\u001b[39mdgl_n_id_to_cugraph_id(F\u001b[38;5;241m.\u001b[39mtensor(n), k)\n\u001b[1;32m    260\u001b[0m         \u001b[38;5;28;01mfor\u001b[39;00m k, n \u001b[38;5;129;01min\u001b[39;00m seed_nodes\u001b[38;5;241m.\u001b[39mitems()\n\u001b[1;32m    261\u001b[0m     }\n\u001b[1;32m    263\u001b[0m     seed_nodes_cap \u001b[38;5;241m=\u001b[39m {\n\u001b[1;32m    264\u001b[0m         k: F\u001b[38;5;241m.\u001b[39mzerocopy_to_dlpack(F\u001b[38;5;241m.\u001b[39mtensor(n))\n\u001b[1;32m    265\u001b[0m         \u001b[38;5;28;01mfor\u001b[39;00m k, n \u001b[38;5;129;01min\u001b[39;00m seed_nodes\u001b[38;5;241m.\u001b[39mitems()\n\u001b[1;32m    266\u001b[0m     }\n\u001b[0;32m--> 268\u001b[0m sample_cap_obj \u001b[38;5;241m=\u001b[39m \u001b[38;5;28;43mself\u001b[39;49m\u001b[38;5;241;43m.\u001b[39;49m\u001b[43mgraphstore\u001b[49m\u001b[38;5;241;43m.\u001b[39;49m\u001b[43msample_neighbors\u001b[49m\u001b[43m(\u001b[49m\n\u001b[1;32m    269\u001b[0m \u001b[43m    \u001b[49m\u001b[43mseed_nodes_cap\u001b[49m\u001b[43m,\u001b[49m\n\u001b[1;32m    270\u001b[0m \u001b[43m    \u001b[49m\u001b[43mfanout\u001b[49m\u001b[43m,\u001b[49m\n\u001b[1;32m    271\u001b[0m \u001b[43m    \u001b[49m\u001b[43medge_dir\u001b[49m\u001b[38;5;241;43m=\u001b[39;49m\u001b[43medge_dir\u001b[49m\u001b[43m,\u001b[49m\n\u001b[1;32m    272\u001b[0m \u001b[43m    \u001b[49m\u001b[43mprob\u001b[49m\u001b[38;5;241;43m=\u001b[39;49m\u001b[43mprob\u001b[49m\u001b[43m,\u001b[49m\n\u001b[1;32m    273\u001b[0m \u001b[43m    \u001b[49m\u001b[43mreplace\u001b[49m\u001b[38;5;241;43m=\u001b[39;49m\u001b[43mreplace\u001b[49m\u001b[43m,\u001b[49m\n\u001b[1;32m    274\u001b[0m \u001b[43m\u001b[49m\u001b[43m)\u001b[49m\n\u001b[1;32m    275\u001b[0m \u001b[38;5;66;03m# heterograph case\u001b[39;00m\n\u001b[1;32m    276\u001b[0m \u001b[38;5;28;01mif\u001b[39;00m \u001b[38;5;28mlen\u001b[39m(\u001b[38;5;28mself\u001b[39m\u001b[38;5;241m.\u001b[39metypes) \u001b[38;5;241m>\u001b[39m\u001b[38;5;241m=\u001b[39m \u001b[38;5;241m1\u001b[39m:\n",
      "File \u001b[0;32m/datasets/vjawa/miniconda3/envs/cugraph_dgl_dev_oct_5/lib/python3.9/site-packages/cugraph-22.10.0a0+114.g970aa4310.dirty-py3.9-linux-x86_64.egg/cugraph/gnn/graph_store.py:323\u001b[0m, in \u001b[0;36mCuGraphStore.sample_neighbors\u001b[0;34m(self, nodes_cap, fanout, edge_dir, prob, replace)\u001b[0m\n\u001b[1;32m    319\u001b[0m     \u001b[38;5;66;03m# Uniform sampling fails when the dtype\u001b[39;00m\n\u001b[1;32m    320\u001b[0m     \u001b[38;5;66;03m# of the seed dtype is not same as the node dtype\u001b[39;00m\n\u001b[1;32m    322\u001b[0m     \u001b[38;5;28mself\u001b[39m\u001b[38;5;241m.\u001b[39mset_sg_node_dtype(\u001b[38;5;28mlist\u001b[39m(sgs\u001b[38;5;241m.\u001b[39mvalues())[\u001b[38;5;241m0\u001b[39m])\n\u001b[0;32m--> 323\u001b[0m     sampled_df \u001b[38;5;241m=\u001b[39m \u001b[43msample_multiple_sgs\u001b[49m\u001b[43m(\u001b[49m\n\u001b[1;32m    324\u001b[0m \u001b[43m        \u001b[49m\u001b[43msgs\u001b[49m\u001b[43m,\u001b[49m\n\u001b[1;32m    325\u001b[0m \u001b[43m        \u001b[49m\u001b[43msample_f\u001b[49m\u001b[43m,\u001b[49m\n\u001b[1;32m    326\u001b[0m \u001b[43m        \u001b[49m\u001b[43mnodes\u001b[49m\u001b[43m,\u001b[49m\n\u001b[1;32m    327\u001b[0m \u001b[43m        \u001b[49m\u001b[38;5;28;43mself\u001b[39;49m\u001b[38;5;241;43m.\u001b[39;49m\u001b[43m_sg_node_dtype\u001b[49m\u001b[43m,\u001b[49m\n\u001b[1;32m    328\u001b[0m \u001b[43m        \u001b[49m\u001b[43medge_dir\u001b[49m\u001b[43m,\u001b[49m\n\u001b[1;32m    329\u001b[0m \u001b[43m        \u001b[49m\u001b[43mfanout\u001b[49m\u001b[43m,\u001b[49m\n\u001b[1;32m    330\u001b[0m \u001b[43m        \u001b[49m\u001b[43mreplace\u001b[49m\u001b[43m,\u001b[49m\n\u001b[1;32m    331\u001b[0m \u001b[43m    \u001b[49m\u001b[43m)\u001b[49m\n\u001b[1;32m    332\u001b[0m \u001b[38;5;28;01melse\u001b[39;00m:\n\u001b[1;32m    333\u001b[0m     \u001b[38;5;28;01mif\u001b[39;00m edge_dir \u001b[38;5;241m==\u001b[39m \u001b[38;5;124m\"\u001b[39m\u001b[38;5;124min\u001b[39m\u001b[38;5;124m\"\u001b[39m:\n",
      "File \u001b[0;32m/datasets/vjawa/miniconda3/envs/cugraph_dgl_dev_oct_5/lib/python3.9/site-packages/cugraph-22.10.0a0+114.g970aa4310.dirty-py3.9-linux-x86_64.egg/cugraph/gnn/graph_store.py:663\u001b[0m, in \u001b[0;36msample_multiple_sgs\u001b[0;34m(sgs, sample_f, start_list_d, start_list_dtype, edge_dir, fanout, with_replacement)\u001b[0m\n\u001b[1;32m    653\u001b[0m \u001b[38;5;28;01mdef\u001b[39;00m \u001b[38;5;21msample_multiple_sgs\u001b[39m(\n\u001b[1;32m    654\u001b[0m     sgs,\n\u001b[1;32m    655\u001b[0m     sample_f,\n\u001b[0;32m   (...)\u001b[0m\n\u001b[1;32m    660\u001b[0m     with_replacement,\n\u001b[1;32m    661\u001b[0m ):\n\u001b[1;32m    662\u001b[0m     start_list_types \u001b[38;5;241m=\u001b[39m \u001b[38;5;28mlist\u001b[39m(start_list_d\u001b[38;5;241m.\u001b[39mkeys())\n\u001b[0;32m--> 663\u001b[0m     output_dfs \u001b[38;5;241m=\u001b[39m [\n\u001b[1;32m    664\u001b[0m         sample_single_sg(\n\u001b[1;32m    665\u001b[0m             sg,\n\u001b[1;32m    666\u001b[0m             sample_f,\n\u001b[1;32m    667\u001b[0m             start_list_d,\n\u001b[1;32m    668\u001b[0m             start_list_dtype,\n\u001b[1;32m    669\u001b[0m             fanout,\n\u001b[1;32m    670\u001b[0m             with_replacement,\n\u001b[1;32m    671\u001b[0m         )\n\u001b[1;32m    672\u001b[0m         \u001b[38;5;28;01mfor\u001b[39;00m can_etype, sg \u001b[38;5;129;01min\u001b[39;00m sgs\u001b[38;5;241m.\u001b[39mitems()\n\u001b[1;32m    673\u001b[0m         \u001b[38;5;28;01mif\u001b[39;00m _edge_types_contains_canonical_etype(\n\u001b[1;32m    674\u001b[0m             can_etype, start_list_types, edge_dir\n\u001b[1;32m    675\u001b[0m         )\n\u001b[1;32m    676\u001b[0m     ]\n\u001b[1;32m    678\u001b[0m     \u001b[38;5;28;01mif\u001b[39;00m \u001b[38;5;28mlen\u001b[39m(output_dfs) \u001b[38;5;241m==\u001b[39m \u001b[38;5;241m0\u001b[39m:\n\u001b[1;32m    679\u001b[0m         empty_df \u001b[38;5;241m=\u001b[39m cudf\u001b[38;5;241m.\u001b[39mDataFrame(\n\u001b[1;32m    680\u001b[0m             {\u001b[38;5;124m\"\u001b[39m\u001b[38;5;124msources\u001b[39m\u001b[38;5;124m\"\u001b[39m: [], \u001b[38;5;124m\"\u001b[39m\u001b[38;5;124mdestinations\u001b[39m\u001b[38;5;124m\"\u001b[39m: [], \u001b[38;5;124m\"\u001b[39m\u001b[38;5;124mindices\u001b[39m\u001b[38;5;124m\"\u001b[39m: []}\n\u001b[1;32m    681\u001b[0m         )\n",
      "File \u001b[0;32m/datasets/vjawa/miniconda3/envs/cugraph_dgl_dev_oct_5/lib/python3.9/site-packages/cugraph-22.10.0a0+114.g970aa4310.dirty-py3.9-linux-x86_64.egg/cugraph/gnn/graph_store.py:664\u001b[0m, in \u001b[0;36m<listcomp>\u001b[0;34m(.0)\u001b[0m\n\u001b[1;32m    653\u001b[0m \u001b[38;5;28;01mdef\u001b[39;00m \u001b[38;5;21msample_multiple_sgs\u001b[39m(\n\u001b[1;32m    654\u001b[0m     sgs,\n\u001b[1;32m    655\u001b[0m     sample_f,\n\u001b[0;32m   (...)\u001b[0m\n\u001b[1;32m    660\u001b[0m     with_replacement,\n\u001b[1;32m    661\u001b[0m ):\n\u001b[1;32m    662\u001b[0m     start_list_types \u001b[38;5;241m=\u001b[39m \u001b[38;5;28mlist\u001b[39m(start_list_d\u001b[38;5;241m.\u001b[39mkeys())\n\u001b[1;32m    663\u001b[0m     output_dfs \u001b[38;5;241m=\u001b[39m [\n\u001b[0;32m--> 664\u001b[0m         \u001b[43msample_single_sg\u001b[49m\u001b[43m(\u001b[49m\n\u001b[1;32m    665\u001b[0m \u001b[43m            \u001b[49m\u001b[43msg\u001b[49m\u001b[43m,\u001b[49m\n\u001b[1;32m    666\u001b[0m \u001b[43m            \u001b[49m\u001b[43msample_f\u001b[49m\u001b[43m,\u001b[49m\n\u001b[1;32m    667\u001b[0m \u001b[43m            \u001b[49m\u001b[43mstart_list_d\u001b[49m\u001b[43m,\u001b[49m\n\u001b[1;32m    668\u001b[0m \u001b[43m            \u001b[49m\u001b[43mstart_list_dtype\u001b[49m\u001b[43m,\u001b[49m\n\u001b[1;32m    669\u001b[0m \u001b[43m            \u001b[49m\u001b[43mfanout\u001b[49m\u001b[43m,\u001b[49m\n\u001b[1;32m    670\u001b[0m \u001b[43m            \u001b[49m\u001b[43mwith_replacement\u001b[49m\u001b[43m,\u001b[49m\n\u001b[1;32m    671\u001b[0m \u001b[43m        \u001b[49m\u001b[43m)\u001b[49m\n\u001b[1;32m    672\u001b[0m         \u001b[38;5;28;01mfor\u001b[39;00m can_etype, sg \u001b[38;5;129;01min\u001b[39;00m sgs\u001b[38;5;241m.\u001b[39mitems()\n\u001b[1;32m    673\u001b[0m         \u001b[38;5;28;01mif\u001b[39;00m _edge_types_contains_canonical_etype(\n\u001b[1;32m    674\u001b[0m             can_etype, start_list_types, edge_dir\n\u001b[1;32m    675\u001b[0m         )\n\u001b[1;32m    676\u001b[0m     ]\n\u001b[1;32m    678\u001b[0m     \u001b[38;5;28;01mif\u001b[39;00m \u001b[38;5;28mlen\u001b[39m(output_dfs) \u001b[38;5;241m==\u001b[39m \u001b[38;5;241m0\u001b[39m:\n\u001b[1;32m    679\u001b[0m         empty_df \u001b[38;5;241m=\u001b[39m cudf\u001b[38;5;241m.\u001b[39mDataFrame(\n\u001b[1;32m    680\u001b[0m             {\u001b[38;5;124m\"\u001b[39m\u001b[38;5;124msources\u001b[39m\u001b[38;5;124m\"\u001b[39m: [], \u001b[38;5;124m\"\u001b[39m\u001b[38;5;124mdestinations\u001b[39m\u001b[38;5;124m\"\u001b[39m: [], \u001b[38;5;124m\"\u001b[39m\u001b[38;5;124mindices\u001b[39m\u001b[38;5;124m\"\u001b[39m: []}\n\u001b[1;32m    681\u001b[0m         )\n",
      "File \u001b[0;32m/datasets/vjawa/miniconda3/envs/cugraph_dgl_dev_oct_5/lib/python3.9/site-packages/cugraph-22.10.0a0+114.g970aa4310.dirty-py3.9-linux-x86_64.egg/cugraph/gnn/graph_store.py:642\u001b[0m, in \u001b[0;36msample_single_sg\u001b[0;34m(sg, sample_f, start_list, start_list_dtype, fanout, with_replacement)\u001b[0m\n\u001b[1;32m    639\u001b[0m \u001b[38;5;66;03m# Uniform sampling fails when the dtype\u001b[39;00m\n\u001b[1;32m    640\u001b[0m \u001b[38;5;66;03m# of the seed dtype is not same as the node dtype\u001b[39;00m\n\u001b[1;32m    641\u001b[0m start_list \u001b[38;5;241m=\u001b[39m start_list\u001b[38;5;241m.\u001b[39mastype(start_list_dtype)\n\u001b[0;32m--> 642\u001b[0m sampled_df \u001b[38;5;241m=\u001b[39m \u001b[43msample_f\u001b[49m\u001b[43m(\u001b[49m\n\u001b[1;32m    643\u001b[0m \u001b[43m    \u001b[49m\u001b[43msg\u001b[49m\u001b[43m,\u001b[49m\n\u001b[1;32m    644\u001b[0m \u001b[43m    \u001b[49m\u001b[43mstart_list\u001b[49m\u001b[38;5;241;43m=\u001b[39;49m\u001b[43mstart_list\u001b[49m\u001b[43m,\u001b[49m\n\u001b[1;32m    645\u001b[0m \u001b[43m    \u001b[49m\u001b[43mfanout_vals\u001b[49m\u001b[38;5;241;43m=\u001b[39;49m\u001b[43m[\u001b[49m\u001b[43mfanout\u001b[49m\u001b[43m]\u001b[49m\u001b[43m,\u001b[49m\n\u001b[1;32m    646\u001b[0m \u001b[43m    \u001b[49m\u001b[43mwith_replacement\u001b[49m\u001b[38;5;241;43m=\u001b[39;49m\u001b[43mwith_replacement\u001b[49m\u001b[43m,\u001b[49m\n\u001b[1;32m    647\u001b[0m \u001b[43m    \u001b[49m\u001b[38;5;66;43;03m# FIXME: is_edge_ids=True does not seem to do anything\u001b[39;49;00m\n\u001b[1;32m    648\u001b[0m \u001b[43m    \u001b[49m\u001b[38;5;66;43;03m# issue https://github.com/rapidsai/cugraph/issues/2562\u001b[39;49;00m\n\u001b[1;32m    649\u001b[0m \u001b[43m\u001b[49m\u001b[43m)\u001b[49m\n\u001b[1;32m    650\u001b[0m \u001b[38;5;28;01mreturn\u001b[39;00m sampled_df\n",
      "File \u001b[0;32m/datasets/vjawa/miniconda3/envs/cugraph_dgl_dev_oct_5/lib/python3.9/site-packages/cugraph-22.10.0a0+114.g970aa4310.dirty-py3.9-linux-x86_64.egg/cugraph/sampling/uniform_neighbor_sample.py:96\u001b[0m, in \u001b[0;36muniform_neighbor_sample\u001b[0;34m(G, start_list, fanout_vals, with_replacement, is_edge_ids)\u001b[0m\n\u001b[1;32m     92\u001b[0m     \u001b[38;5;28;01melse\u001b[39;00m:\n\u001b[1;32m     93\u001b[0m         start_list \u001b[38;5;241m=\u001b[39m G\u001b[38;5;241m.\u001b[39mlookup_internal_vertex_id(start_list)\n\u001b[1;32m     95\u001b[0m sources, destinations, indices \u001b[38;5;241m=\u001b[39m \\\n\u001b[0;32m---> 96\u001b[0m     \u001b[43mpylibcugraph_uniform_neighbor_sample\u001b[49m\u001b[43m(\u001b[49m\n\u001b[1;32m     97\u001b[0m \u001b[43m        \u001b[49m\u001b[43mresource_handle\u001b[49m\u001b[38;5;241;43m=\u001b[39;49m\u001b[43mResourceHandle\u001b[49m\u001b[43m(\u001b[49m\u001b[43m)\u001b[49m\u001b[43m,\u001b[49m\n\u001b[1;32m     98\u001b[0m \u001b[43m        \u001b[49m\u001b[43minput_graph\u001b[49m\u001b[38;5;241;43m=\u001b[39;49m\u001b[43mG\u001b[49m\u001b[38;5;241;43m.\u001b[39;49m\u001b[43m_plc_graph\u001b[49m\u001b[43m,\u001b[49m\n\u001b[1;32m     99\u001b[0m \u001b[43m        \u001b[49m\u001b[43mstart_list\u001b[49m\u001b[38;5;241;43m=\u001b[39;49m\u001b[43mstart_list\u001b[49m\u001b[43m,\u001b[49m\n\u001b[1;32m    100\u001b[0m \u001b[43m        \u001b[49m\u001b[43mh_fan_out\u001b[49m\u001b[38;5;241;43m=\u001b[39;49m\u001b[43mfanout_vals\u001b[49m\u001b[43m,\u001b[49m\n\u001b[1;32m    101\u001b[0m \u001b[43m        \u001b[49m\u001b[43mwith_replacement\u001b[49m\u001b[38;5;241;43m=\u001b[39;49m\u001b[43mwith_replacement\u001b[49m\u001b[43m,\u001b[49m\n\u001b[1;32m    102\u001b[0m \u001b[43m        \u001b[49m\u001b[43mdo_expensive_check\u001b[49m\u001b[38;5;241;43m=\u001b[39;49m\u001b[38;5;28;43;01mFalse\u001b[39;49;00m\n\u001b[1;32m    103\u001b[0m \u001b[43m    \u001b[49m\u001b[43m)\u001b[49m\n\u001b[1;32m    105\u001b[0m df \u001b[38;5;241m=\u001b[39m cudf\u001b[38;5;241m.\u001b[39mDataFrame()\n\u001b[1;32m    106\u001b[0m df[\u001b[38;5;124m\"\u001b[39m\u001b[38;5;124msources\u001b[39m\u001b[38;5;124m\"\u001b[39m] \u001b[38;5;241m=\u001b[39m sources\n",
      "File \u001b[0;32muniform_neighbor_sample.pyx:144\u001b[0m, in \u001b[0;36mpylibcugraph.uniform_neighbor_sample.uniform_neighbor_sample\u001b[0;34m()\u001b[0m\n",
      "File \u001b[0;32mutils.pyx:53\u001b[0m, in \u001b[0;36mpylibcugraph.utils.assert_success\u001b[0;34m()\u001b[0m\n",
      "\u001b[0;31mRuntimeError\u001b[0m: non-success value returned from cugraph_uniform_neighbor_sample: CUGRAPH_UNKNOWN_ERROR cuGraph failure at file=/home/nfs/vjawa/dgl/cugraph/cpp/src/prims/per_v_random_select_transform_outgoing_e.cuh line=304: Invalid input argument: frontier includes out-of-range keys.\nObtained 64 stack frames\n#0 in /datasets/vjawa/miniconda3/envs/cugraph_dgl_dev_oct_5/lib/libcugraph.so(+0x8e1a2b) [0x7f803ff41a2b]\n#1 in /datasets/vjawa/miniconda3/envs/cugraph_dgl_dev_oct_5/lib/libcugraph.so(+0xb21c6d) [0x7f8040181c6d]\n#2 in /datasets/vjawa/miniconda3/envs/cugraph_dgl_dev_oct_5/lib/libcugraph.so(+0x170f4c4) [0x7f8040d6f4c4]\n#3 in /datasets/vjawa/miniconda3/envs/cugraph_dgl_dev_oct_5/lib/libcugraph.so(_ZN7cugraph6detail12sample_edgesINS_12graph_view_tIlldLb0ELb0EvEEEESt5tupleIJN3rmm14device_uvectorINT_11vertex_typeEEES9_St8optionalINS6_INS7_11weight_typeEEEEEERKN4raft8handle_tERKS7_RNSF_6random8RngStateERKS9_mb+0x99d) [0x7f8040d704bd]\n#4 in /datasets/vjawa/miniconda3/envs/cugraph_dgl_dev_oct_5/lib/libcugraph.so(_ZN7cugraph6detail23uniform_nbr_sample_implINS_12graph_view_tIlldLb0ELb0EvEEEESt5tupleIJN3rmm14device_uvectorINT_11vertex_typeEEES9_NS6_INS7_11weight_typeEEENS6_INS7_9edge_typeEEEEERKN4raft8handle_tERKS7_RS9_NSF_4spanIKiLb0ELm18446744073709551615EEEbm+0x25c) [0x7f8040d8e70c]\n#5 in /datasets/vjawa/miniconda3/envs/cugraph_dgl_dev_oct_5/lib/libcugraph.so(_ZN7cugraph18uniform_nbr_sampleIlldLb0ELb0EEESt5tupleIJN3rmm14device_uvectorIT_EES5_NS3_IT1_EENS3_IT0_EEEERKN4raft8handle_tERKNS_12graph_view_tIS4_S8_S6_XT2_EXT3_EvEENSB_4spanIS4_Lb1ELm18446744073709551615EEENSJ_IKiLb0ELm18446744073709551615EEEbm+0xc2) [0x7f8040d8f252]\n#6 in /datasets/vjawa/miniconda3/envs/cugraph_dgl_dev_oct_5/lib/libcugraph_c.so(+0x13d118) [0x7f80691bc118]\n#7 in /datasets/vjawa/miniconda3/envs/cugraph_dgl_dev_oct_5/lib/libcugraph_c.so(cugraph_uniform_neighbor_sample+0x120) [0x7f80691c3350]\n#8 in /datasets/vjawa/miniconda3/envs/cugraph_dgl_dev_oct_5/lib/python3.9/site-packages/pylibcugraph-22.10.0a0+112.g56bfbf249-py3.9-linux-x86_64.egg/pylibcugraph/uniform_neighbor_sample.cpython-39-x86_64-linux-gnu.so(+0x76d3) [0x7f8068e8f6d3]\n#9 in /datasets/vjawa/miniconda3/envs/cugraph_dgl_dev_oct_5/bin/python(_PyObject_MakeTpCall+0x347) [0x563530045fa7]\n#10 in /datasets/vjawa/miniconda3/envs/cugraph_dgl_dev_oct_5/bin/python(_PyEval_EvalFrameDefault+0x568f) [0x56353004207f]\n#11 in /datasets/vjawa/miniconda3/envs/cugraph_dgl_dev_oct_5/bin/python(+0x12aa17) [0x56353003ba17]\n#12 in /datasets/vjawa/miniconda3/envs/cugraph_dgl_dev_oct_5/bin/python(_PyFunction_Vectorcall+0xb9) [0x56353004dff9]\n#13 in /datasets/vjawa/miniconda3/envs/cugraph_dgl_dev_oct_5/bin/python(_PyEval_EvalFrameDefault+0x11db) [0x56353003dbcb]\n#14 in /datasets/vjawa/miniconda3/envs/cugraph_dgl_dev_oct_5/bin/python(+0x13d303) [0x56353004e303]\n#15 in /datasets/vjawa/miniconda3/envs/cugraph_dgl_dev_oct_5/bin/python(_PyEval_EvalFrameDefault+0x3c3) [0x56353003cdb3]\n#16 in /datasets/vjawa/miniconda3/envs/cugraph_dgl_dev_oct_5/bin/python(+0x12aa17) [0x56353003ba17]\n#17 in /datasets/vjawa/miniconda3/envs/cugraph_dgl_dev_oct_5/bin/python(_PyFunction_Vectorcall+0xb9) [0x56353004dff9]\n#18 in /datasets/vjawa/miniconda3/envs/cugraph_dgl_dev_oct_5/bin/python(_PyEval_EvalFrameDefault+0x3c3) [0x56353003cdb3]\n#19 in /datasets/vjawa/miniconda3/envs/cugraph_dgl_dev_oct_5/bin/python(+0x12aa17) [0x56353003ba17]\n#20 in /datasets/vjawa/miniconda3/envs/cugraph_dgl_dev_oct_5/bin/python(_PyFunction_Vectorcall+0xb9) [0x56353004dff9]\n#21 in /datasets/vjawa/miniconda3/envs/cugraph_dgl_dev_oct_5/bin/python(_PyEval_EvalFrameDefault+0x3c3) [0x56353003cdb3]\n#22 in /datasets/vjawa/miniconda3/envs/cugraph_dgl_dev_oct_5/bin/python(+0x12aa17) [0x56353003ba17]\n#23 in /datasets/vjawa/miniconda3/envs/cugraph_dgl_dev_oct_5/bin/python(+0x14c328) [0x56353005d328]\n#24 in /datasets/vjawa/miniconda3/envs/cugraph_dgl_dev_oct_5/bin/python(_PyEval_EvalFrameDefault+0x11db) [0x56353003dbcb]\n#25 in /datasets/vjawa/miniconda3/envs/cugraph_dgl_dev_oct_5/bin/python(+0x12aa17) [0x56353003ba17]\n#26 in /datasets/vjawa/miniconda3/envs/cugraph_dgl_dev_oct_5/bin/python(+0x14c328) [0x56353005d328]\n#27 in /datasets/vjawa/miniconda3/envs/cugraph_dgl_dev_oct_5/bin/python(_PyEval_EvalFrameDefault+0x11db) [0x56353003dbcb]\n#28 in /datasets/vjawa/miniconda3/envs/cugraph_dgl_dev_oct_5/bin/python(+0x12aa17) [0x56353003ba17]\n#29 in /datasets/vjawa/miniconda3/envs/cugraph_dgl_dev_oct_5/bin/python(+0x14c328) [0x56353005d328]\n#30 in /datasets/vjawa/miniconda3/envs/cugraph_dgl_dev_oct_5/bin/python(_PyEval_EvalFrameDefault+0x11db) [0x56353003dbcb]\n#31 in /datasets/vjawa/miniconda3/envs/cugraph_dgl_dev_oct_5/bin/python(+0x12aa17) [0x56353003ba17]\n#32 in /datasets/vjawa/miniconda3/envs/cugraph_dgl_dev_oct_5/bin/python(+0x14c328) [0x56353005d328]\n#33 in /datasets/vjawa/miniconda3/envs/cugraph_dgl_dev_oct_5/bin/python(_PyEval_EvalFrameDefault+0x4c46) [0x563530041636]\n#34 in /datasets/vjawa/miniconda3/envs/cugraph_dgl_dev_oct_5/bin/python(+0x12aa17) [0x56353003ba17]\n#35 in /datasets/vjawa/miniconda3/envs/cugraph_dgl_dev_oct_5/bin/python(_PyObject_FastCallDictTstate+0x140) [0x5635300456e0]\n#36 in /datasets/vjawa/miniconda3/envs/cugraph_dgl_dev_oct_5/bin/python(_PyObject_Call_Prepend+0x69) [0x56353005a5e9]\n#37 in /datasets/vjawa/miniconda3/envs/cugraph_dgl_dev_oct_5/bin/python(+0x21ea85) [0x56353012fa85]\n#38 in /datasets/vjawa/miniconda3/envs/cugraph_dgl_dev_oct_5/bin/python(_PyObject_MakeTpCall+0x347) [0x563530045fa7]\n#39 in /datasets/vjawa/miniconda3/envs/cugraph_dgl_dev_oct_5/bin/python(_PyEval_EvalFrameDefault+0x536f) [0x563530041d5f]\n#40 in /datasets/vjawa/miniconda3/envs/cugraph_dgl_dev_oct_5/bin/python(+0x13d303) [0x56353004e303]\n#41 in /datasets/vjawa/miniconda3/envs/cugraph_dgl_dev_oct_5/bin/python(_PyEval_EvalFrameDefault+0x673) [0x56353003d063]\n#42 in /datasets/vjawa/miniconda3/envs/cugraph_dgl_dev_oct_5/bin/python(+0x13d303) [0x56353004e303]\n#43 in /datasets/vjawa/miniconda3/envs/cugraph_dgl_dev_oct_5/bin/python(_PyEval_EvalFrameDefault+0x673) [0x56353003d063]\n#44 in /datasets/vjawa/miniconda3/envs/cugraph_dgl_dev_oct_5/bin/python(+0x13d303) [0x56353004e303]\n#45 in /datasets/vjawa/miniconda3/envs/cugraph_dgl_dev_oct_5/bin/python(+0x18e9d7) [0x56353009f9d7]\n#46 in /datasets/vjawa/miniconda3/envs/cugraph_dgl_dev_oct_5/bin/python(+0x1d14bc) [0x5635300e24bc]\n#47 in /datasets/vjawa/miniconda3/envs/cugraph_dgl_dev_oct_5/bin/python(+0x1c4189) [0x5635300d5189]\n#48 in /datasets/vjawa/miniconda3/envs/cugraph_dgl_dev_oct_5/bin/python(+0x13d991) [0x56353004e991]\n#49 in /datasets/vjawa/miniconda3/envs/cugraph_dgl_dev_oct_5/bin/python(_PyEval_EvalFrameDefault+0x3c3) [0x56353003cdb3]\n#50 in /datasets/vjawa/miniconda3/envs/cugraph_dgl_dev_oct_5/bin/python(+0x13d303) [0x56353004e303]\n#51 in /datasets/vjawa/miniconda3/envs/cugraph_dgl_dev_oct_5/bin/python(_PyEval_EvalFrameDefault+0x673) [0x56353003d063]\n#52 in /datasets/vjawa/miniconda3/envs/cugraph_dgl_dev_oct_5/bin/python(+0x13d303) [0x56353004e303]\n#53 in /datasets/vjawa/miniconda3/envs/cugraph_dgl_dev_oct_5/bin/python(+0x18e9d7) [0x56353009f9d7]\n#54 in /datasets/vjawa/miniconda3/envs/cugraph_dgl_dev_oct_5/bin/python(+0x1d14bc) [0x5635300e24bc]\n#55 in /datasets/vjawa/miniconda3/envs/cugraph_dgl_dev_oct_5/bin/python(_PyEval_EvalFrameDefault+0x930) [0x56353003d320]\n#56 in /datasets/vjawa/miniconda3/envs/cugraph_dgl_dev_oct_5/bin/python(+0x12aa17) [0x56353003ba17]\n#57 in /datasets/vjawa/miniconda3/envs/cugraph_dgl_dev_oct_5/bin/python(_PyFunction_Vectorcall+0xb9) [0x56353004dff9]\n#58 in /datasets/vjawa/miniconda3/envs/cugraph_dgl_dev_oct_5/bin/python(_PyEval_EvalFrameDefault+0x3c3) [0x56353003cdb3]\n#59 in /datasets/vjawa/miniconda3/envs/cugraph_dgl_dev_oct_5/bin/python(+0x12aa17) [0x56353003ba17]\n#60 in /datasets/vjawa/miniconda3/envs/cugraph_dgl_dev_oct_5/bin/python(_PyEval_EvalCodeWithName+0x47) [0x56353003b6d7]\n#61 in /datasets/vjawa/miniconda3/envs/cugraph_dgl_dev_oct_5/bin/python(PyEval_EvalCodeEx+0x39) [0x56353003b689]\n#62 in /datasets/vjawa/miniconda3/envs/cugraph_dgl_dev_oct_5/bin/python(PyEval_EvalCode+0x1b) [0x5635300f6e3b]\n#63 in /datasets/vjawa/miniconda3/envs/cugraph_dgl_dev_oct_5/bin/python(+0x1ea8fd) [0x5635300fb8fd]\n"
     ]
    }
   ],
   "source": [
    "for run in range(nruns):\n",
    "    embed_layer.reset_parameters()\n",
    "    model.reset_parameters()\n",
    "\n",
    "    # optimizer\n",
    "    all_params = itertools.chain(\n",
    "        model.parameters(), embed_layer.parameters()\n",
    "    )\n",
    "    optimizer = th.optim.Adam(all_params, lr=0.01)\n",
    "\n",
    "    logger = train(\n",
    "        gs,\n",
    "        model,\n",
    "        embed_layer,\n",
    "        optimizer,\n",
    "        train_loader,\n",
    "        subset_split_idx,\n",
    "        #TODO: Change to split_idx,\n",
    "        labels,\n",
    "        logger,\n",
    "        device,\n",
    "        run,\n",
    "    )\n",
    "    logger.print_statistics(run)\n",
    "\n",
    "print(\"Final performance: \")\n",
    "logger.print_statistics()"
   ]
  },
  {
   "cell_type": "code",
   "execution_count": 27,
   "id": "2afe6302-cb6d-4a1c-b882-973b1cc4dc4e",
   "metadata": {},
   "outputs": [
    {
     "data": {
      "text/plain": [
       "torch.int64"
      ]
     },
     "execution_count": 27,
     "metadata": {},
     "output_type": "execute_result"
    }
   ],
   "source": [
    "g.idtype"
   ]
  },
  {
   "cell_type": "code",
   "execution_count": 16,
   "id": "b2a88ef9-41db-4c56-b707-27441cc04e84",
   "metadata": {},
   "outputs": [
    {
     "data": {
      "text/plain": [
       "['__class__',\n",
       " '__contains__',\n",
       " '__copy__',\n",
       " '__delattr__',\n",
       " '__dict__',\n",
       " '__dir__',\n",
       " '__doc__',\n",
       " '__eq__',\n",
       " '__format__',\n",
       " '__ge__',\n",
       " '__getattribute__',\n",
       " '__getitem__',\n",
       " '__gt__',\n",
       " '__hash__',\n",
       " '__init__',\n",
       " '__init_subclass__',\n",
       " '__le__',\n",
       " '__lt__',\n",
       " '__module__',\n",
       " '__ne__',\n",
       " '__new__',\n",
       " '__reduce__',\n",
       " '__reduce_ex__',\n",
       " '__repr__',\n",
       " '__setattr__',\n",
       " '__setstate__',\n",
       " '__sizeof__',\n",
       " '__str__',\n",
       " '__subclasshook__',\n",
       " '__weakref__',\n",
       " '_batch_num_edges',\n",
       " '_batch_num_nodes',\n",
       " '_canonical_etypes',\n",
       " '_dsttypes_invmap',\n",
       " '_edge_frames',\n",
       " '_etype2canonical',\n",
       " '_etypes',\n",
       " '_etypes_invmap',\n",
       " '_find_etypes',\n",
       " '_get_e_repr',\n",
       " '_get_n_repr',\n",
       " '_graph',\n",
       " '_idtype_str',\n",
       " '_init',\n",
       " '_is_unibipartite',\n",
       " '_node_frames',\n",
       " '_ntypes',\n",
       " '_pop_e_repr',\n",
       " '_pop_n_repr',\n",
       " '_reset_cached_info',\n",
       " '_set_e_repr',\n",
       " '_set_n_repr',\n",
       " '_srctypes_invmap',\n",
       " 'add_edge',\n",
       " 'add_edges',\n",
       " 'add_nodes',\n",
       " 'add_self_loop',\n",
       " 'adj',\n",
       " 'adj_sparse',\n",
       " 'adjacency_matrix',\n",
       " 'adjacency_matrix_scipy',\n",
       " 'all_edges',\n",
       " 'apply_edges',\n",
       " 'apply_nodes',\n",
       " 'astype',\n",
       " 'batch_num_edges',\n",
       " 'batch_num_nodes',\n",
       " 'batch_size',\n",
       " 'canonical_etypes',\n",
       " 'clone',\n",
       " 'cpu',\n",
       " 'create_formats_',\n",
       " 'device',\n",
       " 'dstdata',\n",
       " 'dstnodes',\n",
       " 'dsttypes',\n",
       " 'edata',\n",
       " 'edge_attr_schemes',\n",
       " 'edge_id',\n",
       " 'edge_ids',\n",
       " 'edge_subgraph',\n",
       " 'edge_type_subgraph',\n",
       " 'edges',\n",
       " 'etypes',\n",
       " 'filter_edges',\n",
       " 'filter_nodes',\n",
       " 'find_edges',\n",
       " 'formats',\n",
       " 'from_networkx',\n",
       " 'from_scipy_sparse_matrix',\n",
       " 'get_edge_storage',\n",
       " 'get_etype_id',\n",
       " 'get_node_storage',\n",
       " 'get_ntype_id',\n",
       " 'get_ntype_id_from_dst',\n",
       " 'get_ntype_id_from_src',\n",
       " 'global_uniform_negative_sampling',\n",
       " 'group_apply_edges',\n",
       " 'has_edge_between',\n",
       " 'has_edges_between',\n",
       " 'has_node',\n",
       " 'has_nodes',\n",
       " 'idtype',\n",
       " 'in_degree',\n",
       " 'in_degrees',\n",
       " 'in_edges',\n",
       " 'in_subgraph',\n",
       " 'inc',\n",
       " 'incidence_matrix',\n",
       " 'int',\n",
       " 'is_block',\n",
       " 'is_homogeneous',\n",
       " 'is_multigraph',\n",
       " 'is_pinned',\n",
       " 'is_readonly',\n",
       " 'is_unibipartite',\n",
       " 'khop_in_subgraph',\n",
       " 'khop_out_subgraph',\n",
       " 'line_graph',\n",
       " 'local_scope',\n",
       " 'local_var',\n",
       " 'long',\n",
       " 'metagraph',\n",
       " 'multi_pull',\n",
       " 'multi_recv',\n",
       " 'multi_send_and_recv',\n",
       " 'multi_update_all',\n",
       " 'ndata',\n",
       " 'node_attr_schemes',\n",
       " 'node_type_subgraph',\n",
       " 'nodes',\n",
       " 'ntypes',\n",
       " 'num_dst_nodes',\n",
       " 'num_edges',\n",
       " 'num_nodes',\n",
       " 'num_src_nodes',\n",
       " 'number_of_dst_nodes',\n",
       " 'number_of_edges',\n",
       " 'number_of_nodes',\n",
       " 'number_of_src_nodes',\n",
       " 'out_degree',\n",
       " 'out_degrees',\n",
       " 'out_edges',\n",
       " 'out_subgraph',\n",
       " 'pin_memory_',\n",
       " 'predecessors',\n",
       " 'prop_edges',\n",
       " 'prop_nodes',\n",
       " 'pull',\n",
       " 'push',\n",
       " 'readonly',\n",
       " 'recv',\n",
       " 'register_apply_edge_func',\n",
       " 'register_apply_node_func',\n",
       " 'register_message_func',\n",
       " 'register_reduce_func',\n",
       " 'remove_edges',\n",
       " 'remove_nodes',\n",
       " 'remove_self_loop',\n",
       " 'reorder_graph',\n",
       " 'reverse',\n",
       " 'sample_etype_neighbors',\n",
       " 'sample_neighbors',\n",
       " 'sample_neighbors_biased',\n",
       " 'select_topk',\n",
       " 'send',\n",
       " 'send_and_recv',\n",
       " 'set_batch_num_edges',\n",
       " 'set_batch_num_nodes',\n",
       " 'set_e_initializer',\n",
       " 'set_n_initializer',\n",
       " 'shared_memory',\n",
       " 'srcdata',\n",
       " 'srcnodes',\n",
       " 'srctypes',\n",
       " 'subgraph',\n",
       " 'successors',\n",
       " 'to',\n",
       " 'to_canonical_etype',\n",
       " 'to_cugraph',\n",
       " 'to_networkx',\n",
       " 'to_simple',\n",
       " 'unpin_memory_',\n",
       " 'update_all']"
      ]
     },
     "execution_count": 16,
     "metadata": {},
     "output_type": "execute_result"
    }
   ],
   "source": [
    "dir(g)"
   ]
  },
  {
   "cell_type": "code",
   "execution_count": null,
   "id": "cd336645-3058-4909-b552-088a352e7c02",
   "metadata": {},
   "outputs": [],
   "source": []
  }
 ],
 "metadata": {
  "kernelspec": {
   "display_name": "Python 3 (ipykernel)",
   "language": "python",
   "name": "python3"
  },
  "language_info": {
   "codemirror_mode": {
    "name": "ipython",
    "version": 3
   },
   "file_extension": ".py",
   "mimetype": "text/x-python",
   "name": "python",
   "nbconvert_exporter": "python",
   "pygments_lexer": "ipython3",
   "version": "3.9.13"
  }
 },
 "nbformat": 4,
 "nbformat_minor": 5
}
